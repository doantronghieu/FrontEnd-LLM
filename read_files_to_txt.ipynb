{
 "cells": [
  {
   "cell_type": "code",
   "execution_count": 8,
   "metadata": {},
   "outputs": [],
   "source": [
    "def extract_files(files, output=\"extracted_files.txt\"):\n",
    "    with open(output, 'w') as outfile:\n",
    "        for file in files:\n",
    "            outfile.write(f'{file}:\\n')\n",
    "            with open(file, 'r') as infile:\n",
    "                outfile.write(f'```\\n{infile.read()}\\n```\\n')\n",
    "\n",
    "\n",
    "files = [\n",
    "\t'./app.vue',\n",
    "\t'./components/ui/BackgroundComponent.vue',\n",
    "\t'./layouts/default.vue',\n",
    "\t'./store/personnelStore.js',\n",
    "\t'./store/programStore.js',\n",
    "\t'./components/TDTU/BaseCardPersonnel.vue',\n",
    "\t'./components/TDTU/BaseCardProgramDetail.vue',\n",
    "\t'./components/TDTU/BaseCardProgramIntro.vue',\n",
    "\t# './data/tdtu/feee/personnel.json',\n",
    "\t# './data/tdtu/feee/programs.json',\n",
    "\t'./pages/tdtu/feee/personnel.vue',\n",
    "\t'./pages/tdtu/feee/programs.vue',\n",
    "\t'./store/messages.ts',\n",
    "\t'./store/providers.ts',\n",
    "\t'./server.js',\n",
    "]\n",
    "\n",
    "extract_files(files)"
   ]
  },
  {
   "cell_type": "code",
   "execution_count": null,
   "metadata": {},
   "outputs": [],
   "source": []
  }
 ],
 "metadata": {
  "kernelspec": {
   "display_name": "llm",
   "language": "python",
   "name": "python3"
  },
  "language_info": {
   "codemirror_mode": {
    "name": "ipython",
    "version": 3
   },
   "file_extension": ".py",
   "mimetype": "text/x-python",
   "name": "python",
   "nbconvert_exporter": "python",
   "pygments_lexer": "ipython3",
   "version": "3.11.9"
  }
 },
 "nbformat": 4,
 "nbformat_minor": 2
}
